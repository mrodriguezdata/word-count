{
 "cells": [
  {
   "cell_type": "code",
   "execution_count": 2,
   "metadata": {},
   "outputs": [],
   "source": [
    "def count_characters(s):\n",
    "    char_count = {}\n",
    "    for char in s:\n",
    "        if char in char_count:\n",
    "            char_count[char] += 1\n",
    "        else:\n",
    "            char_count[char] = 0\n",
    "    return char_count"
   ]
  },
  {
   "cell_type": "code",
   "execution_count": 3,
   "metadata": {},
   "outputs": [
    {
     "name": "stdout",
     "output_type": "stream",
     "text": [
      "'I': 0\n",
      "' ': 2\n",
      "'w': 0\n",
      "'o': 1\n",
      "'r': 2\n",
      "'k': 0\n",
      "'f': 0\n",
      "'C': 0\n",
      "'i': 0\n",
      "'m': 0\n",
      "'t': 0\n",
      "'a': 0\n",
      "'n': 0\n"
     ]
    }
   ],
   "source": [
    "test_string = \"I work for Crimtan\"\n",
    "char_counts = count_characters(test_string)\n",
    "for char, count in char_counts.items():\n",
    "    print(f\"'{char}': {count}\")"
   ]
  }
 ],
 "metadata": {
  "kernelspec": {
   "display_name": "Python 3",
   "language": "python",
   "name": "python3"
  },
  "language_info": {
   "codemirror_mode": {
    "name": "ipython",
    "version": 3
   },
   "file_extension": ".py",
   "mimetype": "text/x-python",
   "name": "python",
   "nbconvert_exporter": "python",
   "pygments_lexer": "ipython3",
   "version": "3.9.6"
  },
  "orig_nbformat": 4
 },
 "nbformat": 4,
 "nbformat_minor": 2
}
